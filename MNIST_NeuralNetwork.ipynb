{
 "cells": [
  {
   "cell_type": "code",
   "execution_count": 2,
   "metadata": {},
   "outputs": [],
   "source": [
    "import torch\n",
    "from torch import nn\n",
    "from torch.utils.data import DataLoader\n",
    "from torchvision import datasets\n",
    "from torchvision.transforms import *\n",
    "import matplotlib.pyplot as plt"
   ]
  },
  {
   "attachments": {},
   "cell_type": "markdown",
   "metadata": {},
   "source": [
    "Importing the Dataset and adding Variation to the dataset"
   ]
  },
  {
   "cell_type": "code",
   "execution_count": 3,
   "metadata": {},
   "outputs": [],
   "source": [
    "training_transforms = transforms.Compose([\n",
    "    transforms.RandomRotation(25),\n",
    "    transforms.ToTensor(),\n",
    "]\n",
    ")\n",
    "test_transforms = transforms.Compose([\n",
    "    transforms.RandomRotation(25),\n",
    "    transforms.ToTensor(),\n",
    "])"
   ]
  },
  {
   "cell_type": "code",
   "execution_count": 4,
   "metadata": {},
   "outputs": [],
   "source": [
    "#Basic training set that is used to train the data\n",
    "training_data = datasets.MNIST(\n",
    "    root = \"data\",\n",
    "    train= True,\n",
    "    download=True,\n",
    "    transform= training_transforms\n",
    ")\n",
    "\n",
    "#Test data that can be used to test if NN is properly guessing the number\n",
    "test_data = datasets.MNIST(\n",
    "    root=\"data\",\n",
    "    train= False,\n",
    "    download=True,\n",
    "    transform=test_transforms,\n",
    ")\n",
    "\n",
    "test_data_image = datasets.MNIST(\n",
    "    root=\"data\",\n",
    "    train = False,\n",
    "    download=True,\n",
    ")"
   ]
  },
  {
   "attachments": {},
   "cell_type": "markdown",
   "metadata": {},
   "source": [
    "Testing the functionality of dataset"
   ]
  },
  {
   "cell_type": "code",
   "execution_count": 5,
   "metadata": {},
   "outputs": [
    {
     "name": "stdout",
     "output_type": "stream",
     "text": [
      "7\n",
      "(28, 28)\n"
     ]
    },
    {
     "data": {
      "text/plain": [
       "<matplotlib.image.AxesImage at 0x1749d6650>"
      ]
     },
     "execution_count": 5,
     "metadata": {},
     "output_type": "execute_result"
    },
    {
     "data": {
      "image/png": "[encoded data removed]",
      "text/plain": [
       "<Figure size 640x480 with 1 Axes>"
      ]
     },
     "metadata": {},
     "output_type": "display_data"
    }
   ],
   "source": [
    "feature = test_data_image[0][0]\n",
    "label = test_data_image[0][1]\n",
    "\n",
    "print(label)\n",
    "print(feature.size)\n",
    "plt.imshow(feature, cmap='gray')"
   ]
  },
  {
   "attachments": {},
   "cell_type": "markdown",
   "metadata": {},
   "source": [
    "Creating the Batches that will get loaded into the model"
   ]
  },
  {
   "cell_type": "code",
   "execution_count": 6,
   "metadata": {},
   "outputs": [
    {
     "name": "stdout",
     "output_type": "stream",
     "text": [
      "Shape of the X torch.Size([64, 1, 28, 28])\n",
      "Datatype and the shape of y torch.Size([64]) torch.int64\n"
     ]
    }
   ],
   "source": [
    "batch_size = 64\n",
    "\n",
    "train_dataLoader = DataLoader(training_data, batch_size= batch_size)\n",
    "test_dataLoader = DataLoader(test_data, batch_size= batch_size)\n",
    "\n",
    "for X, y in train_dataLoader:\n",
    "    print(f\"Shape of the X {X.shape}\")\n",
    "    print(f\"Datatype and the shape of y {y.shape} {y.dtype}\")\n",
    "    break"
   ]
  },
  {
   "attachments": {},
   "cell_type": "markdown",
   "metadata": {},
   "source": [
    "Creating the Model"
   ]
  },
  {
   "cell_type": "code",
   "execution_count": 7,
   "metadata": {},
   "outputs": [
    {
     "name": "stdout",
     "output_type": "stream",
     "text": [
      "Using mps device\n",
      "NeuralNetwork(\n",
      "  (flatten): Flatten(start_dim=1, end_dim=-1)\n",
      "  (linear_relu_stack): Sequential(\n",
      "    (0): Linear(in_features=784, out_features=512, bias=True)\n",
      "    (1): ReLU()\n",
      "    (2): Linear(in_features=512, out_features=512, bias=True)\n",
      "    (3): ReLU()\n",
      "    (4): Linear(in_features=512, out_features=200, bias=True)\n",
      "    (5): ReLU()\n",
      "    (6): Linear(in_features=200, out_features=10, bias=True)\n",
      "  )\n",
      ")\n"
     ]
    }
   ],
   "source": [
    "# Get cpu, gpu or mps device for training.\n",
    "device = (\n",
    "    \"cuda\"\n",
    "    if torch.cuda.is_available()\n",
    "    else \"mps\"\n",
    "    if torch.backends.mps.is_available()\n",
    "    else \"cpu\"\n",
    ")\n",
    "print(f\"Using {device} device\")\n",
    "\n",
    "# Define model\n",
    "class NeuralNetwork(nn.Module):\n",
    "    def __init__(self):\n",
    "        super().__init__()\n",
    "        self.flatten = nn.Flatten()\n",
    "        self.linear_relu_stack = nn.Sequential(\n",
    "            nn.Linear(28*28, 512),\n",
    "            nn.ReLU(),\n",
    "            nn.Linear(512, 512),\n",
    "            nn.ReLU(),\n",
    "            nn.Linear(512, 200),\n",
    "            nn.ReLU(),\n",
    "            nn.Linear(200, 10)\n",
    "        )\n",
    "\n",
    "    def forward(self, x):\n",
    "        x = self.flatten(x)\n",
    "        logits = self.linear_relu_stack(x)\n",
    "        return logits\n",
    "\n",
    "model = NeuralNetwork().to(device)\n",
    "print(model)     "
   ]
  },
  {
   "attachments": {},
   "cell_type": "markdown",
   "metadata": {},
   "source": [
    "Optimizing the Model Parameters"
   ]
  },
  {
   "cell_type": "code",
   "execution_count": 50,
   "metadata": {},
   "outputs": [],
   "source": [
    "loss_fn = nn.CrossEntropyLoss()\n",
    "optimizer = torch.optim.SGD(model.parameters(), lr=1e-3)"
   ]
  },
  {
   "attachments": {},
   "cell_type": "markdown",
   "metadata": {},
   "source": [
    "This funtion will iterate and take the prediciton and then does backpropegation the prediction error to change and adjust the models parameters"
   ]
  },
  {
   "cell_type": "code",
   "execution_count": 51,
   "metadata": {},
   "outputs": [],
   "source": [
    "def train(dataloader, model, loss_fn, optimizer):\n",
    "    size = len(dataloader.dataset)\n",
    "    model.train()\n",
    "    for batch, (X, y) in enumerate(dataloader):\n",
    "        X, y = X.to(device), y.to(device)\n",
    "\n",
    "        # Compute prediction error\n",
    "        pred = model(X)\n",
    "        loss = loss_fn(pred, y)\n",
    "\n",
    "        # Backpropagation\n",
    "        loss.backward()\n",
    "        optimizer.step()\n",
    "        optimizer.zero_grad()\n",
    "\n",
    "        if batch % 100 == 0:\n",
    "            loss, current = loss.item(), (batch + 1) * len(X)\n",
    "            print(f\"loss: {loss:>7f}  [{current:>5d}/{size:>5d}]\")"
   ]
  },
  {
   "attachments": {},
   "cell_type": "markdown",
   "metadata": {},
   "source": [
    "This code will just test the model and see how well it is performing"
   ]
  },
  {
   "cell_type": "code",
   "execution_count": 52,
   "metadata": {},
   "outputs": [],
   "source": [
    "def test(dataloader, model, loss_fn):\n",
    "    size = len(dataloader.dataset)\n",
    "    num_batches = len(dataloader)\n",
    "    model.eval()\n",
    "    test_loss, correct = 0, 0\n",
    "    with torch.no_grad():\n",
    "        for X, y in dataloader:\n",
    "            X, y = X.to(device), y.to(device)\n",
    "            pred = model(X)\n",
    "            test_loss += loss_fn(pred, y).item()\n",
    "            correct += (pred.argmax(1) == y).type(torch.float).sum().item()\n",
    "    test_loss /= num_batches\n",
    "    correct /= size\n",
    "    print(f\"Test Error: \\n Accuracy: {(100*correct):>0.1f}%, Avg loss: {test_loss:>8f} \\n\")"
   ]
  },
  {
   "attachments": {},
   "cell_type": "markdown",
   "metadata": {},
   "source": [
    "This training process will then happen over epochs(iteration). It will print out the loss and then the accuracy in a form of a percent as well as the average loss."
   ]
  },
  {
   "cell_type": "code",
   "execution_count": 55,
   "metadata": {},
   "outputs": [
    {
     "name": "stdout",
     "output_type": "stream",
     "text": [
      "Epoch 1\n",
      "-------------------------------\n",
      "loss: 1.044160  [   64/60000]\n",
      "loss: 0.882452  [ 6464/60000]\n",
      "loss: 0.963732  [12864/60000]\n",
      "loss: 0.883089  [19264/60000]\n",
      "loss: 0.802469  [25664/60000]\n",
      "loss: 0.757086  [32064/60000]\n",
      "loss: 0.810145  [38464/60000]\n",
      "loss: 0.976272  [44864/60000]\n",
      "loss: 0.847164  [51264/60000]\n",
      "loss: 0.838503  [57664/60000]\n",
      "Test Error: \n",
      " Accuracy: 76.6%, Avg loss: 0.800140 \n",
      "\n",
      "Epoch 2\n",
      "-------------------------------\n",
      "loss: 0.928981  [   64/60000]\n",
      "loss: 0.767530  [ 6464/60000]\n",
      "loss: 0.821441  [12864/60000]\n",
      "loss: 0.780637  [19264/60000]\n",
      "loss: 0.771798  [25664/60000]\n",
      "loss: 0.717241  [32064/60000]\n",
      "loss: 0.759507  [38464/60000]\n",
      "loss: 0.887432  [44864/60000]\n",
      "loss: 0.738479  [51264/60000]\n",
      "loss: 0.844411  [57664/60000]\n",
      "Test Error: \n",
      " Accuracy: 78.4%, Avg loss: 0.740450 \n",
      "\n",
      "Epoch 3\n",
      "-------------------------------\n",
      "loss: 0.897760  [   64/60000]\n",
      "loss: 0.712961  [ 6464/60000]\n",
      "loss: 0.840404  [12864/60000]\n",
      "loss: 0.674915  [19264/60000]\n",
      "loss: 0.799591  [25664/60000]\n",
      "loss: 0.678641  [32064/60000]\n",
      "loss: 0.722996  [38464/60000]\n",
      "loss: 0.727700  [44864/60000]\n",
      "loss: 0.782499  [51264/60000]\n",
      "loss: 0.789310  [57664/60000]\n",
      "Test Error: \n",
      " Accuracy: 79.5%, Avg loss: 0.694981 \n",
      "\n",
      "Epoch 4\n",
      "-------------------------------\n",
      "loss: 0.825581  [   64/60000]\n",
      "loss: 0.697060  [ 6464/60000]\n",
      "loss: 0.682781  [12864/60000]\n",
      "loss: 0.669490  [19264/60000]\n",
      "loss: 0.647613  [25664/60000]\n",
      "loss: 0.715266  [32064/60000]\n",
      "loss: 0.604379  [38464/60000]\n",
      "loss: 0.658302  [44864/60000]\n",
      "loss: 0.775068  [51264/60000]\n",
      "loss: 0.695202  [57664/60000]\n",
      "Test Error: \n",
      " Accuracy: 80.2%, Avg loss: 0.666209 \n",
      "\n",
      "Epoch 5\n",
      "-------------------------------\n",
      "loss: 0.829347  [   64/60000]\n",
      "loss: 0.514402  [ 6464/60000]\n",
      "loss: 0.641138  [12864/60000]\n",
      "loss: 0.661911  [19264/60000]\n",
      "loss: 0.641257  [25664/60000]\n",
      "loss: 0.711273  [32064/60000]\n",
      "loss: 0.628596  [38464/60000]\n",
      "loss: 0.679564  [44864/60000]\n",
      "loss: 0.747501  [51264/60000]\n",
      "loss: 0.701385  [57664/60000]\n",
      "Test Error: \n",
      " Accuracy: 81.6%, Avg loss: 0.632633 \n",
      "\n",
      "Epoch 6\n",
      "-------------------------------\n",
      "loss: 0.783441  [   64/60000]\n",
      "loss: 0.631049  [ 6464/60000]\n",
      "loss: 0.563616  [12864/60000]\n",
      "loss: 0.683118  [19264/60000]\n",
      "loss: 0.608589  [25664/60000]\n",
      "loss: 0.617486  [32064/60000]\n",
      "loss: 0.584636  [38464/60000]\n",
      "loss: 0.662346  [44864/60000]\n",
      "loss: 0.705270  [51264/60000]\n",
      "loss: 0.684670  [57664/60000]\n",
      "Test Error: \n",
      " Accuracy: 82.0%, Avg loss: 0.602045 \n",
      "\n",
      "Epoch 7\n",
      "-------------------------------\n",
      "loss: 0.806310  [   64/60000]\n",
      "loss: 0.422548  [ 6464/60000]\n",
      "loss: 0.612285  [12864/60000]\n",
      "loss: 0.573706  [19264/60000]\n",
      "loss: 0.576597  [25664/60000]\n",
      "loss: 0.611194  [32064/60000]\n",
      "loss: 0.574661  [38464/60000]\n",
      "loss: 0.694432  [44864/60000]\n",
      "loss: 0.576320  [51264/60000]\n",
      "loss: 0.677250  [57664/60000]\n",
      "Test Error: \n",
      " Accuracy: 82.6%, Avg loss: 0.585311 \n",
      "\n",
      "Epoch 8\n",
      "-------------------------------\n",
      "loss: 0.780645  [   64/60000]\n",
      "loss: 0.519075  [ 6464/60000]\n",
      "loss: 0.592107  [12864/60000]\n",
      "loss: 0.609560  [19264/60000]\n",
      "loss: 0.539741  [25664/60000]\n",
      "loss: 0.605523  [32064/60000]\n",
      "loss: 0.518148  [38464/60000]\n",
      "loss: 0.593426  [44864/60000]\n",
      "loss: 0.632327  [51264/60000]\n",
      "loss: 0.732719  [57664/60000]\n",
      "Test Error: \n",
      " Accuracy: 82.8%, Avg loss: 0.565727 \n",
      "\n",
      "Epoch 9\n",
      "-------------------------------\n",
      "loss: 0.635607  [   64/60000]\n",
      "loss: 0.497095  [ 6464/60000]\n",
      "loss: 0.645328  [12864/60000]\n",
      "loss: 0.664085  [19264/60000]\n",
      "loss: 0.583307  [25664/60000]\n",
      "loss: 0.534704  [32064/60000]\n",
      "loss: 0.523515  [38464/60000]\n",
      "loss: 0.639587  [44864/60000]\n",
      "loss: 0.633018  [51264/60000]\n",
      "loss: 0.582220  [57664/60000]\n",
      "Test Error: \n",
      " Accuracy: 83.3%, Avg loss: 0.555576 \n",
      "\n",
      "Epoch 10\n",
      "-------------------------------\n",
      "loss: 0.748797  [   64/60000]\n",
      "loss: 0.678134  [ 6464/60000]\n",
      "loss: 0.551238  [12864/60000]\n",
      "loss: 0.625671  [19264/60000]\n",
      "loss: 0.606401  [25664/60000]\n",
      "loss: 0.579761  [32064/60000]\n",
      "loss: 0.483165  [38464/60000]\n",
      "loss: 0.700785  [44864/60000]\n",
      "loss: 0.758017  [51264/60000]\n",
      "loss: 0.609409  [57664/60000]\n",
      "Test Error: \n",
      " Accuracy: 83.5%, Avg loss: 0.547860 \n",
      "\n",
      "Epoch 11\n",
      "-------------------------------\n",
      "loss: 0.675755  [   64/60000]\n",
      "loss: 0.522360  [ 6464/60000]\n",
      "loss: 0.530103  [12864/60000]\n",
      "loss: 0.560162  [19264/60000]\n",
      "loss: 0.637921  [25664/60000]\n",
      "loss: 0.518074  [32064/60000]\n",
      "loss: 0.414259  [38464/60000]\n",
      "loss: 0.607692  [44864/60000]\n",
      "loss: 0.805727  [51264/60000]\n",
      "loss: 0.657535  [57664/60000]\n",
      "Test Error: \n",
      " Accuracy: 84.3%, Avg loss: 0.530935 \n",
      "\n",
      "Epoch 12\n",
      "-------------------------------\n",
      "loss: 0.745097  [   64/60000]\n",
      "loss: 0.482956  [ 6464/60000]\n",
      "loss: 0.540272  [12864/60000]\n",
      "loss: 0.596722  [19264/60000]\n",
      "loss: 0.567018  [25664/60000]\n",
      "loss: 0.585053  [32064/60000]\n",
      "loss: 0.475394  [38464/60000]\n",
      "loss: 0.656047  [44864/60000]\n",
      "loss: 0.663023  [51264/60000]\n",
      "loss: 0.551490  [57664/60000]\n",
      "Test Error: \n",
      " Accuracy: 84.3%, Avg loss: 0.519907 \n",
      "\n",
      "Epoch 13\n",
      "-------------------------------\n",
      "loss: 0.700378  [   64/60000]\n",
      "loss: 0.501335  [ 6464/60000]\n",
      "loss: 0.599848  [12864/60000]\n",
      "loss: 0.554000  [19264/60000]\n",
      "loss: 0.541987  [25664/60000]\n",
      "loss: 0.553431  [32064/60000]\n",
      "loss: 0.378310  [38464/60000]\n",
      "loss: 0.531941  [44864/60000]\n",
      "loss: 0.579681  [51264/60000]\n",
      "loss: 0.675315  [57664/60000]\n",
      "Test Error: \n",
      " Accuracy: 84.8%, Avg loss: 0.506109 \n",
      "\n",
      "Epoch 14\n",
      "-------------------------------\n",
      "loss: 0.603496  [   64/60000]\n",
      "loss: 0.522559  [ 6464/60000]\n",
      "loss: 0.503398  [12864/60000]\n",
      "loss: 0.520931  [19264/60000]\n",
      "loss: 0.576507  [25664/60000]\n",
      "loss: 0.501385  [32064/60000]\n",
      "loss: 0.417533  [38464/60000]\n",
      "loss: 0.602182  [44864/60000]\n",
      "loss: 0.572815  [51264/60000]\n",
      "loss: 0.577839  [57664/60000]\n",
      "Test Error: \n",
      " Accuracy: 85.0%, Avg loss: 0.505729 \n",
      "\n",
      "Epoch 15\n",
      "-------------------------------\n",
      "loss: 0.548557  [   64/60000]\n",
      "loss: 0.517603  [ 6464/60000]\n",
      "loss: 0.509908  [12864/60000]\n",
      "loss: 0.628790  [19264/60000]\n",
      "loss: 0.454087  [25664/60000]\n",
      "loss: 0.473932  [32064/60000]\n",
      "loss: 0.443862  [38464/60000]\n",
      "loss: 0.589404  [44864/60000]\n",
      "loss: 0.681703  [51264/60000]\n",
      "loss: 0.641323  [57664/60000]\n",
      "Test Error: \n",
      " Accuracy: 85.1%, Avg loss: 0.490600 \n",
      "\n",
      "Done!\n"
     ]
    }
   ],
   "source": [
    "epochs = 15\n",
    "for t in range(epochs):\n",
    "    print(f\"Epoch {t+1}\\n-------------------------------\")\n",
    "    train(train_dataLoader, model, loss_fn, optimizer)\n",
    "    test(test_dataLoader, model, loss_fn)\n",
    "print(\"Done!\")"
   ]
  },
  {
   "cell_type": "code",
   "execution_count": 56,
   "metadata": {},
   "outputs": [],
   "source": [
    "torch.save(model.state_dict(), \"model.pth\") "
   ]
  },
  {
   "cell_type": "code",
   "execution_count": 8,
   "metadata": {},
   "outputs": [
    {
     "data": {
      "text/plain": [
       "<All keys matched successfully>"
      ]
     },
     "execution_count": 8,
     "metadata": {},
     "output_type": "execute_result"
    }
   ],
   "source": [
    "model = NeuralNetwork().to(device)\n",
    "model.load_state_dict(torch.load(\"model.pth\"))"
   ]
  },
  {
   "cell_type": "code",
   "execution_count": 13,
   "metadata": {},
   "outputs": [
    {
     "name": "stdout",
     "output_type": "stream",
     "text": [
      "Predicted: \"7\", Actual: \"7\"\n",
      "Predicted: \"2\", Actual: \"2\"\n",
      "Predicted: \"1\", Actual: \"1\"\n",
      "Predicted: \"0\", Actual: \"0\"\n",
      "Predicted: \"4\", Actual: \"4\"\n",
      "Predicted: \"1\", Actual: \"1\"\n",
      "Predicted: \"4\", Actual: \"4\"\n",
      "Predicted: \"4\", Actual: \"9\"\n",
      "Predicted: \"6\", Actual: \"5\"\n",
      "Predicted: \"9\", Actual: \"9\"\n",
      "Predicted: \"0\", Actual: \"0\"\n",
      "Predicted: \"6\", Actual: \"6\"\n",
      "Predicted: \"9\", Actual: \"9\"\n",
      "Predicted: \"0\", Actual: \"0\"\n",
      "Predicted: \"1\", Actual: \"1\"\n",
      "Predicted: \"5\", Actual: \"5\"\n",
      "Predicted: \"9\", Actual: \"9\"\n",
      "Predicted: \"7\", Actual: \"7\"\n",
      "Predicted: \"3\", Actual: \"3\"\n",
      "Predicted: \"4\", Actual: \"4\"\n"
     ]
    }
   ],
   "source": [
    "classes = [\n",
    "    \"0\",\n",
    "    \"1\",\n",
    "    \"2\",\n",
    "    \"3\",\n",
    "    \"4\",\n",
    "    \"5\",\n",
    "    \"6\",\n",
    "    \"7\",\n",
    "    \"8\",\n",
    "    \"9\",\n",
    "]\n",
    "\n",
    "model.eval()\n",
    "for i in range(20):\n",
    "    x, y = test_data[i][0], test_data[i][1]\n",
    "    with torch.no_grad():\n",
    "        x = x.to(device)\n",
    "        pred = model(x)\n",
    "        predicted, actual = classes[pred[0].argmax(0)], classes[y]\n",
    "        print(f'Predicted: \"{predicted}\", Actual: \"{actual}\"')\n",
    "        featue = test_data_image[i][0]"
   ]
  },
  {
   "cell_type": "code",
   "execution_count": null,
   "metadata": {},
   "outputs": [],
   "source": []
  }
 ],
 "metadata": {
  "kernelspec": {
   "display_name": "Python 3",
   "language": "python",
   "name": "python3"
  },
  "language_info": {
   "codemirror_mode": {
    "name": "ipython",
    "version": 3
   },
   "file_extension": ".py",
   "mimetype": "text/x-python",
   "name": "python",
   "nbconvert_exporter": "python",
   "pygments_lexer": "ipython3",
   "version": "3.11.4"
  },
  "orig_nbformat": 4
 },
 "nbformat": 4,
 "nbformat_minor": 2
}
